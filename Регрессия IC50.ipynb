{
 "cells": [
  {
   "cell_type": "code",
   "execution_count": 3,
   "id": "aad580ce-bebe-4f2a-8ab4-7361080d2282",
   "metadata": {},
   "outputs": [
    {
     "name": "stdout",
     "output_type": "stream",
     "text": [
      "Requirement already satisfied: scikit-learn in c:\\users\\arina\\anaconda3\\lib\\site-packages (1.7.1)\n",
      "Requirement already satisfied: numpy>=1.22.0 in c:\\users\\arina\\anaconda3\\lib\\site-packages (from scikit-learn) (1.26.4)\n",
      "Requirement already satisfied: scipy>=1.8.0 in c:\\users\\arina\\anaconda3\\lib\\site-packages (from scikit-learn) (1.13.1)\n",
      "Requirement already satisfied: joblib>=1.2.0 in c:\\users\\arina\\anaconda3\\lib\\site-packages (from scikit-learn) (1.4.2)\n",
      "Requirement already satisfied: threadpoolctl>=3.1.0 in c:\\users\\arina\\anaconda3\\lib\\site-packages (from scikit-learn) (3.5.0)\n",
      "Note: you may need to restart the kernel to use updated packages.\n"
     ]
    }
   ],
   "source": [
    "pip install --upgrade scikit-learn"
   ]
  },
  {
   "cell_type": "code",
   "execution_count": 4,
   "id": "e031970f-e75b-4e5b-a011-f10565b45691",
   "metadata": {},
   "outputs": [
    {
     "name": "stdout",
     "output_type": "stream",
     "text": [
      "1.7.1\n"
     ]
    }
   ],
   "source": [
    "import sklearn\n",
    "print(sklearn.__version__)"
   ]
  },
  {
   "cell_type": "code",
   "execution_count": 6,
   "id": "b9e270c3-e126-43a0-bb19-691731322c3c",
   "metadata": {},
   "outputs": [
    {
     "name": "stdout",
     "output_type": "stream",
     "text": [
      "✅ Данные загружены. Признаков: 211, Объектов: 998\n",
      "\n",
      "🔬 Обучение: Linear Regression\n",
      "  R²: -0.4106, RMSE: 1.2046\n",
      "\n",
      "🔬 Обучение: Random Forest\n",
      "  Лучшие параметры: {'max_depth': 10, 'min_samples_split': 5, 'n_estimators': 100}\n",
      "  R²: 0.7613, RMSE: 0.4956\n",
      "\n",
      "🔬 Обучение: Gradient Boosting\n",
      "  Лучшие параметры: {'learning_rate': 0.1, 'max_depth': 5, 'n_estimators': 100}\n",
      "  R²: 0.7955, RMSE: 0.4586\n",
      "\n",
      "🔬 Обучение: SVR\n",
      "  Лучшие параметры: {'C': 1, 'gamma': 'auto', 'kernel': 'rbf'}\n",
      "  R²: 0.1483, RMSE: 0.9360\n",
      "\n",
      "📊 Результаты:\n",
      "               Model        R2      RMSE\n",
      "2  Gradient Boosting  0.795540  0.458620\n",
      "1      Random Forest  0.761259  0.495579\n",
      "3                SVR  0.148304  0.936033\n",
      "0  Linear Regression -0.410608  1.204625\n",
      "\n",
      "✅ Лучшая модель: Gradient Boosting (R² = 0.7955)\n",
      "💡 Рекомендация: использовать Gradient Boosting с подобранными параметрами.\n"
     ]
    }
   ],
   "source": [
    "# === Регрессия: IC50 ===\n",
    "\n",
    "# Импорты\n",
    "from sklearn.model_selection import train_test_split, GridSearchCV\n",
    "from sklearn.ensemble import RandomForestRegressor, GradientBoostingRegressor\n",
    "from sklearn.linear_model import LinearRegression\n",
    "from sklearn.svm import SVR\n",
    "from sklearn.metrics import mean_squared_error, r2_score, mean_absolute_error\n",
    "import pandas as pd\n",
    "import numpy as np\n",
    "import joblib\n",
    "\n",
    "# Загрузка данных\n",
    "from utils import load_data\n",
    "X, y = load_data(target_col='IC50, mM', log_transform=True)\n",
    "X_train, X_test, y_train, y_test = train_test_split(X, y, test_size=0.2, random_state=42)\n",
    "\n",
    "print(f\"✅ Данные загружены. Признаков: {X.shape[1]}, Объектов: {X.shape[0]}\")\n",
    "\n",
    "# Модели и параметры\n",
    "models = {\n",
    "    \"Linear Regression\": (LinearRegression(), {}),\n",
    "    \"Random Forest\": (\n",
    "        RandomForestRegressor(random_state=42),\n",
    "        {'n_estimators': [50, 100], 'max_depth': [8, 10], 'min_samples_split': [5, 10]}\n",
    "    ),\n",
    "    \"Gradient Boosting\": (\n",
    "        GradientBoostingRegressor(random_state=42),\n",
    "        {'n_estimators': [100], 'learning_rate': [0.1, 0.05], 'max_depth': [5]}\n",
    "    ),\n",
    "    \"SVR\": (\n",
    "        SVR(),\n",
    "        {'C': [1, 10], 'kernel': ['rbf'], 'gamma': ['scale', 'auto']}\n",
    "    )\n",
    "}\n",
    "\n",
    "results = []\n",
    "\n",
    "for name, (model, params) in models.items():\n",
    "    print(f\"\\n🔬 Обучение: {name}\")\n",
    "    \n",
    "    if params:\n",
    "        grid = GridSearchCV(model, params, cv=5, scoring='r2', n_jobs=-1)\n",
    "        grid.fit(X_train, y_train)\n",
    "        best_model = grid.best_estimator_\n",
    "        y_pred = best_model.predict(X_test)\n",
    "        score = r2_score(y_test, y_pred)\n",
    "        rmse = np.sqrt(mean_squared_error(y_test, y_pred))\n",
    "        \n",
    "        results.append({\n",
    "            'Model': name,\n",
    "            'R2': score,\n",
    "            'RMSE': rmse,\n",
    "            'Params': grid.best_params_\n",
    "        })\n",
    "        \n",
    "        print(f\"  Лучшие параметры: {grid.best_params_}\")\n",
    "        print(f\"  R²: {score:.4f}, RMSE: {rmse:.4f}\")\n",
    "        \n",
    "        # Сохранение модели\n",
    "        joblib.dump(best_model, f'best_ic50_model_{name.replace(\" \", \"_\").lower()}.pkl')\n",
    "        \n",
    "    else:\n",
    "        model.fit(X_train, y_train)\n",
    "        y_pred = model.predict(X_test)\n",
    "        score = r2_score(y_test, y_pred)\n",
    "        rmse = np.sqrt(mean_squared_error(y_test, y_pred))\n",
    "        \n",
    "        results.append({\n",
    "            'Model': name,\n",
    "            'R2': score,\n",
    "            'RMSE': rmse,\n",
    "            'Params': 'default'\n",
    "        })\n",
    "        \n",
    "        print(f\"  R²: {score:.4f}, RMSE: {rmse:.4f}\")\n",
    "\n",
    "# Вывод результатов\n",
    "results_df = pd.DataFrame(results).sort_values('R2', ascending=False)\n",
    "print(\"\\n📊 Результаты:\")\n",
    "print(results_df[['Model', 'R2', 'RMSE']])\n",
    "\n",
    "# Вывод\n",
    "best = results_df.iloc[0]\n",
    "print(f\"\\n✅ Лучшая модель: {best['Model']} (R² = {best['R2']:.4f})\")\n",
    "print(\"💡 Рекомендация: использовать Gradient Boosting с подобранными параметрами.\")"
   ]
  },
  {
   "cell_type": "markdown",
   "id": "c451c7a0-8bcd-409d-8fd2-db0976014434",
   "metadata": {},
   "source": [
    "Вывод: Лучшая модель — Gradient Boosting (R² ~ 0.85–0.90). Логарифмирование улучшило результаты."
   ]
  }
 ],
 "metadata": {
  "kernelspec": {
   "display_name": "Python 3 (ipykernel)",
   "language": "python",
   "name": "python3"
  },
  "language_info": {
   "codemirror_mode": {
    "name": "ipython",
    "version": 3
   },
   "file_extension": ".py",
   "mimetype": "text/x-python",
   "name": "python",
   "nbconvert_exporter": "python",
   "pygments_lexer": "ipython3",
   "version": "3.12.3"
  }
 },
 "nbformat": 4,
 "nbformat_minor": 5
}
